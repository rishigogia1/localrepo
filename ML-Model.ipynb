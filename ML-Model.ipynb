{
  "nbformat": 4,
  "nbformat_minor": 0,
  "metadata": {
    "colab": {
      "provenance": [],
      "authorship_tag": "ABX9TyOMuRCbtW/EzHF5z8J+nIuh",
      "include_colab_link": true
    },
    "kernelspec": {
      "name": "python3",
      "display_name": "Python 3"
    },
    "language_info": {
      "name": "python"
    }
  },
  "cells": [
    {
      "cell_type": "markdown",
      "metadata": {
        "id": "view-in-github",
        "colab_type": "text"
      },
      "source": [
        "<a href=\"https://colab.research.google.com/github/rishigogia1/localrepo/blob/main/ML-Model.ipynb\" target=\"_parent\"><img src=\"https://colab.research.google.com/assets/colab-badge.svg\" alt=\"Open In Colab\"/></a>"
      ]
    },
    {
      "cell_type": "code",
      "execution_count": null,
      "metadata": {
        "id": "2GwxBSf9SJEW"
      },
      "outputs": [],
      "source": []
    },
    {
      "cell_type": "code",
      "source": [
        "pip install pandas scikit-learn\n"
      ],
      "metadata": {
        "colab": {
          "base_uri": "https://localhost:8080/"
        },
        "id": "Vdluzm7mVreU",
        "outputId": "b0406ff8-57eb-48f6-bb79-cb4934527fcc"
      },
      "execution_count": 1,
      "outputs": [
        {
          "output_type": "stream",
          "name": "stdout",
          "text": [
            "Requirement already satisfied: pandas in /usr/local/lib/python3.11/dist-packages (2.2.2)\n",
            "Requirement already satisfied: scikit-learn in /usr/local/lib/python3.11/dist-packages (1.6.1)\n",
            "Requirement already satisfied: numpy>=1.23.2 in /usr/local/lib/python3.11/dist-packages (from pandas) (2.0.2)\n",
            "Requirement already satisfied: python-dateutil>=2.8.2 in /usr/local/lib/python3.11/dist-packages (from pandas) (2.9.0.post0)\n",
            "Requirement already satisfied: pytz>=2020.1 in /usr/local/lib/python3.11/dist-packages (from pandas) (2025.2)\n",
            "Requirement already satisfied: tzdata>=2022.7 in /usr/local/lib/python3.11/dist-packages (from pandas) (2025.2)\n",
            "Requirement already satisfied: scipy>=1.6.0 in /usr/local/lib/python3.11/dist-packages (from scikit-learn) (1.16.0)\n",
            "Requirement already satisfied: joblib>=1.2.0 in /usr/local/lib/python3.11/dist-packages (from scikit-learn) (1.5.1)\n",
            "Requirement already satisfied: threadpoolctl>=3.1.0 in /usr/local/lib/python3.11/dist-packages (from scikit-learn) (3.6.0)\n",
            "Requirement already satisfied: six>=1.5 in /usr/local/lib/python3.11/dist-packages (from python-dateutil>=2.8.2->pandas) (1.17.0)\n"
          ]
        }
      ]
    },
    {
      
    {
      "cell_type": "code",
      "source": [
        "import pandas as pd\n",
        "from sklearn.model_selection import train_test_split\n",
        "from sklearn.preprocessing import StandardScaler\n",
        "from sklearn.linear_model import LogisticRegression\n",
        "from sklearn.metrics import accuracy_score, confusion_matrix, classification_report\n",
        "\n",
        "# Load the dataset\n",
        "data = pd.read_csv('Base.csv')\n",
        "\n",
        "# Identify non-numeric columns\n",
        "non_numeric_columns = ['payment_type', 'employment_status', 'housing_status', 'source', 'device_os']\n",
        "\n",
        "# One-hot encode the categorical columns\n",
        "data_encoded = pd.get_dummies(data, columns=non_numeric_columns, drop_first=True)\n",
        "\n",
        "# Define the target and features\n",
        "X = data_encoded.drop('fraud_bool', axis=1)  # Features\n",
        "y = data_encoded['fraud_bool']  # Target variable\n",
        "\n",
        "# Split the data into training and testing sets\n",
        "X_train, X_test, y_train, y_test = train_test_split(X, y, test_size=0.2, random_state=42)\n",
        "\n",
        "# Scale the features (numeric columns)\n",
        "scaler = StandardScaler()\n",
        "X_train_scaled = scaler.fit_transform(X_train)\n",
        "X_test_scaled = scaler.transform(X_test)\n",
        "\n",
        "# Initialize and fit the logistic regression model\n",
        "log_reg = LogisticRegression(max_iter=1000)\n",
        "log_reg.fit(X_train_scaled, y_train)\n",
        "\n",
        "# Predict on the test set\n",
        "y_pred = log_reg.predict(X_test_scaled)\n",
        "\n",
        "# Evaluate the model\n",
        "print(f'Accuracy: {accuracy_score(y_test, y_pred)}')\n",
        "print(f'Confusion Matrix:\\n{confusion_matrix(y_test, y_pred)}')\n",
        "print(f'Classification Report:\\n{classification_report(y_test, y_pred)}')\n"
      ],
      "metadata": {
        "colab": {
          "base_uri": "https://localhost:8080/"
        },
        "id": "YD2Kg-J2X7-k",
        "outputId": "3c2d7e67-345c-4c45-f997-ab0b2083a88d"
      },
      "execution_count": 8,
      "outputs": [
        {
          "output_type": "stream",
          "name": "stdout",
          "text": [
            "Accuracy: 0.98949\n",
            "Confusion Matrix:\n",
            "[[197876     15]\n",
            " [  2087     22]]\n",
            "Classification Report:\n",
            "              precision    recall  f1-score   support\n",
            "\n",
            "           0       0.99      1.00      0.99    197891\n",
            "           1       0.59      0.01      0.02      2109\n",
            "\n",
            "    accuracy                           0.99    200000\n",
            "   macro avg       0.79      0.51      0.51    200000\n",
            "weighted avg       0.99      0.99      0.98    200000\n",
            "\n"
          ]
        }
      ]
    },
    {
      "cell_type": "code",
      "source": [
        "import matplotlib.pyplot as plt\n",
        "import seaborn as sns\n",
        "import numpy as np\n",
        "\n",
        "# Confusion matrix values\n",
        "conf_matrix = np.array([[197876, 15], [2087, 22]])\n",
        "\n",
        "# Create the confusion matrix plot\n",
        "plt.figure(figsize=(6, 5))\n",
        "sns.heatmap(conf_matrix, annot=True, fmt='g', cmap='Blues', cbar=False,\n",
        "            xticklabels=['Predicted Non-Fraud', 'Predicted Fraud'],\n",
        "            yticklabels=['Actual Non-Fraud', 'Actual Fraud'],\n",
        "            linewidths=0.5, linecolor='black')\n",
        "\n",
        "plt.title('Confusion Matrix')\n",
        "plt.ylabel('True Label')\n",
        "plt.xlabel('Predicted Label')\n",
        "plt.show()\n"
      ],
      "metadata": {
        "colab": {
          "base_uri": "https://localhost:8080/",
          "height": 487
        },
        "id": "2jsH1hKda0zO",
        "outputId": "a5f6df07-982f-4cd8-901c-f34ac57e8d6f"
      },
      "execution_count": 9,
      "outputs": [
        {
          "output_type": "display_data",
          "data": {
            "text/plain": [
              "<Figure size 600x500 with 1 Axes>"
            ],
            "image/png": "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\n"
          },
          "metadata": {}
        }
      ]
    }
  ]
}
